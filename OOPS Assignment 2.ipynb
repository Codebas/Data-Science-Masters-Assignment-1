{
 "cells": [
  {
   "cell_type": "markdown",
   "id": "8df9bdee-8aab-4fa1-aad4-9325bb458ce8",
   "metadata": {},
   "source": [
    "### 1 Answer"
   ]
  },
  {
   "cell_type": "code",
   "execution_count": 1,
   "id": "10225ccc-b0f8-4c9c-8536-457b54980594",
   "metadata": {},
   "outputs": [
    {
     "name": "stdout",
     "output_type": "stream",
     "text": [
      "Vehicle: Car\n",
      "Maximum Speed: 200 km/h\n",
      "Average Speed: 60 km/h\n"
     ]
    }
   ],
   "source": [
    "class Vehicle:\n",
    "    def __init__(self, name_of_vehicle, max_speed, average_speed):\n",
    "        self.name_of_vehicle = name_of_vehicle\n",
    "        self.max_speed = max_speed\n",
    "        self.average_speed = average_speed\n",
    "\n",
    "# Creating an instance of the Vehicle class\n",
    "car = Vehicle(\"Car\", 200, 60)\n",
    "\n",
    "# Accessing the instance variables\n",
    "print(f\"Vehicle: {car.name_of_vehicle}\")\n",
    "print(f\"Maximum Speed: {car.max_speed} km/h\")\n",
    "print(f\"Average Speed: {car.average_speed} km/h\")"
   ]
  },
  {
   "cell_type": "markdown",
   "id": "f9d46567-36db-44a6-8ebe-8ad3d93c5b9e",
   "metadata": {},
   "source": [
    "### 2 Answer"
   ]
  },
  {
   "cell_type": "code",
   "execution_count": 2,
   "id": "261aad1b-d5f0-45fc-adea-724e5522dadf",
   "metadata": {},
   "outputs": [
    {
     "name": "stdout",
     "output_type": "stream",
     "text": [
      "Vehicle: Car\n",
      "Maximum Speed: 200 km/h\n",
      "Average Speed: 60 km/h\n",
      "Car has a seating capacity of 5 people.\n"
     ]
    }
   ],
   "source": [
    "class Vehicle:\n",
    "    def __init__(self, name_of_vehicle, max_speed, average_speed):\n",
    "        self.name_of_vehicle = name_of_vehicle\n",
    "        self.max_speed = max_speed\n",
    "        self.average_speed = average_speed\n",
    "\n",
    "class Car(Vehicle):\n",
    "    def seating_capacity(self, capacity):\n",
    "        return f\"{self.name_of_vehicle} has a seating capacity of {capacity} people.\"\n",
    "\n",
    "# Creating an instance of the Car class\n",
    "car = Car(\"Car\", 200, 60)\n",
    "\n",
    "# Accessing the instance variables from the parent class\n",
    "print(f\"Vehicle: {car.name_of_vehicle}\")\n",
    "print(f\"Maximum Speed: {car.max_speed} km/h\")\n",
    "print(f\"Average Speed: {car.average_speed} km/h\")\n",
    "\n",
    "# Calling the seating_capacity method from the child class\n",
    "capacity = 5  # Number of people the car can seat\n",
    "print(car.seating_capacity(capacity))\n"
   ]
  },
  {
   "cell_type": "markdown",
   "id": "2c7b56b4-37c8-4d3b-90e1-214ed2cbe43b",
   "metadata": {},
   "source": [
    "### 3 Answer"
   ]
  },
  {
   "cell_type": "code",
   "execution_count": 3,
   "id": "84ccda88-7062-4e3e-a940-5a6e271bc409",
   "metadata": {},
   "outputs": [
    {
     "name": "stdout",
     "output_type": "stream",
     "text": [
      "Method from class A\n",
      "Method from class B\n",
      "Method from class C\n"
     ]
    }
   ],
   "source": [
    "class A:\n",
    "    def method_A(self):\n",
    "        print(\"Method from class A\")\n",
    "\n",
    "class B:\n",
    "    def method_B(self):\n",
    "        print(\"Method from class B\")\n",
    "\n",
    "class C(A, B):\n",
    "    def method_C(self):\n",
    "        print(\"Method from class C\")\n",
    "\n",
    "# Create an instance of class C\n",
    "obj_c = C()\n",
    "\n",
    "# Access methods from class A\n",
    "obj_c.method_A()\n",
    "\n",
    "# Access methods from class B\n",
    "obj_c.method_B()\n",
    "\n",
    "# Access method from class C\n",
    "obj_c.method_C()"
   ]
  },
  {
   "cell_type": "markdown",
   "id": "1478dff8-65bd-40e6-b5c0-72f8ade11799",
   "metadata": {},
   "source": [
    "### 4 Answer"
   ]
  },
  {
   "cell_type": "markdown",
   "id": "2eaff5e0-5023-41a3-9f2f-d5460113cd28",
   "metadata": {},
   "source": [
    "In Python, getters and setters are methods used to control the access and modification of attributes (instance variables) within a class. They are often used to enforce encapsulation by providing controlled access to class attributes.\n",
    "\n",
    "Getter Method: A getter method is used to access the value of a class attribute. It is a method that returns the current value of the attribute. Getter methods are sometimes referred to as \"accessor\" methods.\n",
    "\n",
    "Setter Method: A setter method is used to set or modify the value of a class attribute. It is a method that allows you to change the value of an attribute. Setter methods are sometimes referred to as \"mutator\" methods."
   ]
  },
  {
   "cell_type": "code",
   "execution_count": 4,
   "id": "b7fe4bd8-53d4-4220-b3c0-772a70ea6985",
   "metadata": {},
   "outputs": [
    {
     "name": "stdout",
     "output_type": "stream",
     "text": [
      "Student Name: Alice\n",
      "Student Age: 20\n",
      "Updated Student Name: Bob\n",
      "Updated Student Age: 22\n"
     ]
    }
   ],
   "source": [
    "class Student:\n",
    "    def __init__(self, name, age):\n",
    "        self._name = name  # Note the use of a single underscore to indicate a \"protected\" attribute\n",
    "        self._age = age\n",
    "\n",
    "    # Getter method for name\n",
    "    def get_name(self):\n",
    "        return self._name\n",
    "\n",
    "    # Setter method for name\n",
    "    def set_name(self, new_name):\n",
    "        if len(new_name) > 0:\n",
    "            self._name = new_name\n",
    "        else:\n",
    "            print(\"Name cannot be empty.\")\n",
    "\n",
    "    # Getter method for age\n",
    "    def get_age(self):\n",
    "        return self._age\n",
    "\n",
    "    # Setter method for age\n",
    "    def set_age(self, new_age):\n",
    "        if new_age >= 0:\n",
    "            self._age = new_age\n",
    "        else:\n",
    "            print(\"Age cannot be negative.\")\n",
    "\n",
    "# Creating an instance of the Student class\n",
    "student = Student(\"Alice\", 20)\n",
    "\n",
    "# Using the getter method to access the name and age\n",
    "print(\"Student Name:\", student.get_name())\n",
    "print(\"Student Age:\", student.get_age())\n",
    "\n",
    "# Using the setter methods to update the name and age\n",
    "student.set_name(\"Bob\")\n",
    "student.set_age(22)\n",
    "\n",
    "# Using the getter methods again to access the updated values\n",
    "print(\"Updated Student Name:\", student.get_name())\n",
    "print(\"Updated Student Age:\", student.get_age())"
   ]
  },
  {
   "cell_type": "code",
   "execution_count": null,
   "id": "09bd9e60-4cfb-486e-8296-2f0d8881a0dc",
   "metadata": {},
   "outputs": [],
   "source": []
  }
 ],
 "metadata": {
  "kernelspec": {
   "display_name": "Python 3 (ipykernel)",
   "language": "python",
   "name": "python3"
  },
  "language_info": {
   "codemirror_mode": {
    "name": "ipython",
    "version": 3
   },
   "file_extension": ".py",
   "mimetype": "text/x-python",
   "name": "python",
   "nbconvert_exporter": "python",
   "pygments_lexer": "ipython3",
   "version": "3.10.8"
  }
 },
 "nbformat": 4,
 "nbformat_minor": 5
}
