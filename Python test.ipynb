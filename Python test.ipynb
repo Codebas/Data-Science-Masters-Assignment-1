{
 "cells": [
  {
   "cell_type": "markdown",
   "id": "d0649e60-018d-481c-bb59-68d5d688275f",
   "metadata": {},
   "source": [
    "#1 Answer"
   ]
  },
  {
   "cell_type": "code",
   "execution_count": 1,
   "id": "8ac2b9f0-ef5d-44c6-a1cb-991390c11f59",
   "metadata": {},
   "outputs": [
    {
     "name": "stdout",
     "output_type": "stream",
     "text": [
      "('Virat Kohli', 24936)\n",
      "('Jack Kallis', 25534)\n",
      "('Ricky Ponting', 27483)\n",
      "('Sachin Tendulkar', 34357)\n"
     ]
    }
   ],
   "source": [
    "data = [('Sachin Tendulkar', 34357),\n",
    "        ('Ricky Ponting', 27483),\n",
    "        ('Jack Kallis', 25534),\n",
    "        ('Virat Kohli', 24936)]\n",
    "\n",
    "sorted_data = sorted(data, key=lambda x: x[1])\n",
    "\n",
    "for item in sorted_data:\n",
    "    print(item)"
   ]
  },
  {
   "cell_type": "markdown",
   "id": "5da08918-f07f-4b9d-a8fb-c55393d3a715",
   "metadata": {},
   "source": [
    "#2 Answer"
   ]
  },
  {
   "cell_type": "code",
   "execution_count": 2,
   "id": "a44c4fc2-0b62-4108-a9b5-01e2c9272d9f",
   "metadata": {},
   "outputs": [
    {
     "name": "stdout",
     "output_type": "stream",
     "text": [
      "[1, 4, 9, 16, 25, 36, 49, 64, 81, 100]\n"
     ]
    }
   ],
   "source": [
    "numbers = [1, 2, 3, 4, 5, 6, 7, 8, 9, 10]\n",
    "\n",
    "squares = list(map(lambda x: x**2, numbers))\n",
    "\n",
    "print(squares)"
   ]
  },
  {
   "cell_type": "markdown",
   "id": "c2876dcd-bb79-4f63-b6de-c44bf389227d",
   "metadata": {},
   "source": [
    "#3 Answer"
   ]
  },
  {
   "cell_type": "code",
   "execution_count": 3,
   "id": "bf27a4ff-7265-4728-97a4-897025c4629e",
   "metadata": {},
   "outputs": [
    {
     "name": "stdout",
     "output_type": "stream",
     "text": [
      "('1', '2', '3', '4', '5', '6', '7', '8', '9', '10')\n"
     ]
    }
   ],
   "source": [
    "numbers = [1, 2, 3, 4, 5, 6, 7, 8, 9, 10]\n",
    "\n",
    "tuple_of_strings = tuple(map(lambda x: str(x), numbers))\n",
    "\n",
    "print(tuple_of_strings)"
   ]
  },
  {
   "cell_type": "markdown",
   "id": "9a0b2c60-d0cc-4d8e-b9f4-0d599478d774",
   "metadata": {},
   "source": [
    "#4 Answer"
   ]
  },
  {
   "cell_type": "code",
   "execution_count": 4,
   "id": "89faf1a3-896d-4cbf-93ba-4f6ec295f26c",
   "metadata": {},
   "outputs": [
    {
     "name": "stdout",
     "output_type": "stream",
     "text": [
      "15511210043330985984000000\n"
     ]
    }
   ],
   "source": [
    "from functools import reduce\n",
    "\n",
    "numbers = list(range(1, 26))  # List containing numbers from 1 to 25\n",
    "\n",
    "product = reduce(lambda x, y: x * y, numbers)\n",
    "\n",
    "print(product)"
   ]
  },
  {
   "cell_type": "markdown",
   "id": "0303af84-078c-4cd0-bae5-2613deac2051",
   "metadata": {},
   "source": [
    "#5 Answer"
   ]
  },
  {
   "cell_type": "code",
   "execution_count": 5,
   "id": "7a6cbb9f-5dbe-43b5-9c69-81d0c9387a52",
   "metadata": {},
   "outputs": [
    {
     "name": "stdout",
     "output_type": "stream",
     "text": [
      "[6, 12]\n"
     ]
    }
   ],
   "source": [
    "numbers = [1, 2, 3, 4, 5, 6, 7, 8, 9, 10, 11, 12, 13, 14, 15]\n",
    "\n",
    "filtered_numbers = list(filter(lambda x: x % 2 == 0 and x % 3 == 0, numbers))\n",
    "\n",
    "print(filtered_numbers)"
   ]
  },
  {
   "cell_type": "markdown",
   "id": "88861850-6596-4184-9451-76f9a59643d3",
   "metadata": {},
   "source": [
    "#6 Answer"
   ]
  },
  {
   "cell_type": "code",
   "execution_count": 6,
   "id": "64f6aeb6-8dbc-48a3-a9fb-6f110dd91e8e",
   "metadata": {},
   "outputs": [
    {
     "name": "stdout",
     "output_type": "stream",
     "text": [
      "['php', 'aba', 'radar', 'level']\n"
     ]
    }
   ],
   "source": [
    "words = ['python', 'php', 'aba', 'radar', 'level']\n",
    "\n",
    "palindromes = list(filter(lambda x: x == x[::-1], words))\n",
    "\n",
    "print(palindromes)"
   ]
  },
  {
   "cell_type": "code",
   "execution_count": null,
   "id": "b496ec86-38fb-4304-a58c-bc265d0157ce",
   "metadata": {},
   "outputs": [],
   "source": []
  }
 ],
 "metadata": {
  "kernelspec": {
   "display_name": "Python 3 (ipykernel)",
   "language": "python",
   "name": "python3"
  },
  "language_info": {
   "codemirror_mode": {
    "name": "ipython",
    "version": 3
   },
   "file_extension": ".py",
   "mimetype": "text/x-python",
   "name": "python",
   "nbconvert_exporter": "python",
   "pygments_lexer": "ipython3",
   "version": "3.10.8"
  }
 },
 "nbformat": 4,
 "nbformat_minor": 5
}
