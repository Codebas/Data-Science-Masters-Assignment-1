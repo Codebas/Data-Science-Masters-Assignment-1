{
 "cells": [
  {
   "cell_type": "markdown",
   "id": "41f7698c-a987-4052-9f4e-2c2b405984b9",
   "metadata": {
    "tags": []
   },
   "source": [
    "1 Answer\n",
    "\n",
    " In object-oriented programming (OOP), a \"class\" and an \"object\" are fundamental concepts that are used to model and organize code in a way that reflects real-world entities and their interactions. Here's an explanation of both terms:\n",
    "\n",
    "1. Class:\n",
    "\n",
    "A class is a blueprint or template for creating objects. It defines the attributes (data) and behaviors (methods) that objects of that class will have.\n",
    "It serves as a model that specifies what an object should look like and what it can do.\n",
    "Classes are like a cookie cutter, and objects are the cookies you create using that cutter.\n",
    "2. Object:\n",
    "\n",
    "An object is a specific instance of a class. It's a concrete, individual entity created based on the class blueprint.\n",
    "Objects have their own unique attributes and can perform actions as defined by the class.\n",
    "In OOP, objects represent the actual data and the operations that can be performed on that data.\n",
    "\n",
    "\n",
    "\n",
    "\n",
    "\n",
    "\n"
   ]
  },
  {
   "cell_type": "code",
   "execution_count": 5,
   "id": "a91e273b-bbee-467e-b6bf-ccae82ba02f4",
   "metadata": {},
   "outputs": [
    {
     "name": "stdout",
     "output_type": "stream",
     "text": [
      "2023 Toyota Camry is running.\n",
      "2022 Honda Civic is running.\n",
      "2022 Honda Civic is stopped.\n"
     ]
    }
   ],
   "source": [
    "class Car:\n",
    "    def __init__(self, make, model, year):\n",
    "        self.make = make\n",
    "        self.model = model\n",
    "        self.year = year\n",
    "        self.is_running = False\n",
    "\n",
    "    def start_engine(self):\n",
    "        self.is_running = True\n",
    "\n",
    "    def stop_engine(self):\n",
    "        self.is_running = False\n",
    "\n",
    "    def get_info(self):\n",
    "        if self.is_running:\n",
    "            status = \"running\"\n",
    "        else:\n",
    "            status = \"stopped\"\n",
    "        return f\"{self.year} {self.make} {self.model} is {status}.\"\n",
    "\n",
    "# Creating two car objects\n",
    "car1 = Car(\"Toyota\", \"Camry\", 2023)\n",
    "car2 = Car(\"Honda\", \"Civic\", 2022)\n",
    "\n",
    "# Interacting with objects\n",
    "car1.start_engine()\n",
    "car2.start_engine()\n",
    "\n",
    "# Printing information about the cars\n",
    "print(car1.get_info())\n",
    "print(car2.get_info())\n",
    "\n",
    "# Stopping one car\n",
    "car2.stop_engine()\n",
    "print(car2.get_info())"
   ]
  },
  {
   "cell_type": "markdown",
   "id": "d9bb9bd7-2529-4385-b978-36e9c1a806ce",
   "metadata": {},
   "source": [
    "### 2 Answer"
   ]
  },
  {
   "cell_type": "markdown",
   "id": "5b9d00ee-5459-498b-9f10-e6c4b69beedf",
   "metadata": {},
   "source": [
    "The four pillars of object-oriented programming (OOP) are:\n",
    "\n",
    "1. **Encapsulation:** Encapsulation is the principle of bundling data (attributes) and methods (functions) that operate on the data into a single unit called a class. It restricts direct access to some of an object's components and prevents unintended interference and misuse of data. Encapsulation helps maintain the integrity and consistency of an object's internal state.\n",
    "\n",
    "2. **Inheritance:** Inheritance is the mechanism by which one class (the subclass or derived class) inherits the attributes and methods of another class (the base class or superclass). Inheritance promotes code reusability and allows you to create new classes that are variations of existing classes. It establishes an \"is-a\" relationship between classes.\n",
    "\n",
    "3. **Polymorphism:** Polymorphism is the ability of different classes to be treated as instances of a common superclass. It allows objects of different classes to be used interchangeably based on their common interface. Polymorphism enables dynamic method binding and method overriding, which can lead to more flexible and extensible code.\n",
    "\n",
    "4. **Abstraction:** Abstraction is the process of simplifying complex reality by modeling classes based on essential properties and behaviors, while ignoring or hiding the irrelevant details. It allows you to create abstract classes and methods that define a contract for subclasses to implement. Abstraction helps manage complexity and build systems that are more comprehensible and maintainable.\n",
    "\n",
    "These four pillars are foundational principles in OOP and guide the design and structure of object-oriented software, making it more organized, modular, and easier to maintain and extend."
   ]
  },
  {
   "cell_type": "markdown",
   "id": "37fc6ad0-81fd-4ece-bd1f-bc155f959ec8",
   "metadata": {},
   "source": [
    "### 3 Answer"
   ]
  },
  {
   "cell_type": "markdown",
   "id": "d5b42006-6efa-4f7e-9cf1-f2fa5167a5cb",
   "metadata": {},
   "source": [
    "The __init__() function, also known as the constructor, is a special method in Python classes. It is automatically called when a new instance of the class is created. The primary purpose of the __init__() method is to initialize the attributes (data members) of the object or set up the initial state of the object. In other words, it helps prepare the object for use.\n",
    "\n",
    "Here's why the __init__() function is used:\n",
    "\n",
    "Initialization: The __init__() method allows you to provide initial values for an object's attributes. This is important because, when you create a new object, you often want it to start with specific values or a default state.\n",
    "\n",
    "Attribute Assignment: It's used to assign values to the instance variables (attributes) of the object, making the object unique and storing its data. Each instance of a class can have its own set of attribute values.\n",
    "\n",
    "Customization: The __init__() method enables you to customize how each object is created. You can set different initial values for different objects based on their specific requirements."
   ]
  },
  {
   "cell_type": "code",
   "execution_count": 7,
   "id": "58959519-d65e-474b-b7a6-04828ebcd8cc",
   "metadata": {},
   "outputs": [
    {
     "name": "stdout",
     "output_type": "stream",
     "text": [
      "Buddy is 3 years old and is a Golden Retriever.\n",
      "Rex barks!\n"
     ]
    }
   ],
   "source": [
    "class Dog:\n",
    "    def __init__(self, name, age, breed):\n",
    "        self.name = name\n",
    "        self.age = age\n",
    "        self.breed = breed\n",
    "\n",
    "    def bark(self):\n",
    "        print(f\"{self.name} barks!\")\n",
    "\n",
    "# Creating instances of the Dog class\n",
    "dog1 = Dog(\"Buddy\", 3, \"Golden Retriever\")\n",
    "dog2 = Dog(\"Rex\", 2, \"German Shepherd\")\n",
    "\n",
    "# Accessing attributes and calling methods\n",
    "print(f\"{dog1.name} is {dog1.age} years old and is a {dog1.breed}.\")\n",
    "dog2.bark()"
   ]
  },
  {
   "cell_type": "markdown",
   "id": "d70efe57-9ce6-42bf-ac1c-ffc3de85c587",
   "metadata": {},
   "source": [
    "### 4 Answer"
   ]
  },
  {
   "cell_type": "markdown",
   "id": "0a275f33-454b-413a-b0e9-b61fedb35797",
   "metadata": {},
   "source": [
    "In object-oriented programming (OOP), self is a convention (though it can technically be any name) used to represent the instance of a class within the class's methods. It is a reference to the object that a method is operating on. The use of self is important for several reasons:\n",
    "\n",
    "Accessing Instance Variables: Within a class's methods, you often need to access or modify the object's attributes (instance variables). self allows you to refer to these attributes, differentiating them from local variables.\n",
    "\n",
    "Method Invocation: When you call a method on an object (e.g., obj.method()), self helps the method identify and work with the specific object it was called on. This allows different instances of the same class to behave differently based on their internal data.\n",
    "\n",
    "Maintaining Object State: self is essential for maintaining the state of an object. It ensures that changes made within a method are applied to the object it belongs to, allowing the object to encapsulate its data and behavior."
   ]
  },
  {
   "cell_type": "code",
   "execution_count": 9,
   "id": "75a6f564-c635-4a22-a056-bd495420910a",
   "metadata": {},
   "outputs": [
    {
     "name": "stdout",
     "output_type": "stream",
     "text": [
      "My name is Alice, and I am 25 years old.\n",
      "My name is Bob, and I am 30 years old.\n"
     ]
    }
   ],
   "source": [
    "class Person:\n",
    "    def __init__(self, name, age):\n",
    "        self.name = name\n",
    "        self.age = age\n",
    "\n",
    "    def introduce(self):\n",
    "        print(f\"My name is {self.name}, and I am {self.age} years old.\")\n",
    "\n",
    "# Creating instances of the Person class\n",
    "person1 = Person(\"Alice\", 25)\n",
    "person2 = Person(\"Bob\", 30)\n",
    "\n",
    "# Calling the introduce method on each person\n",
    "person1.introduce()\n",
    "person2.introduce()\n"
   ]
  },
  {
   "cell_type": "markdown",
   "id": "23275097-f592-47d3-b247-f8d678f6709f",
   "metadata": {},
   "source": [
    "### 5 Answer"
   ]
  },
  {
   "cell_type": "markdown",
   "id": "763c2f13-a63a-4de5-be1a-d1cde563063e",
   "metadata": {},
   "source": []
  },
  {
   "cell_type": "markdown",
   "id": "38b14872-6f2d-41ee-8a0a-28b45f73e061",
   "metadata": {},
   "source": [
    "Inheritance is a fundamental concept in object-oriented programming (OOP) that allows you to create a new class based on an existing class. The new class inherits the attributes and methods of the existing class, and it can also introduce its own attributes and methods or override inherited ones. Inheritance is used to model an \"is-a\" relationship, where a derived class (subclass) is a specialized version of a base class (superclass).\n",
    "\n",
    "There are several types of inheritance, including:\n",
    "\n",
    "Single Inheritance: In single inheritance, a class inherits from only one base class. This is the simplest form of inheritance."
   ]
  },
  {
   "cell_type": "code",
   "execution_count": 14,
   "id": "9c3d0db2-d50b-4d62-9524-7cffcdda074b",
   "metadata": {},
   "outputs": [],
   "source": [
    "class Animal:\n",
    "    def speak(self):\n",
    "        pass\n",
    "\n",
    "class Dog(Animal):\n",
    "    def speak(self):\n",
    "        return \"Woof!\"\n",
    "\n",
    "class Cat(Animal):\n",
    "    def speak(self):\n",
    "        return \"Meow!\""
   ]
  },
  {
   "cell_type": "code",
   "execution_count": null,
   "id": "7041e160-28b7-4196-9bb4-83246dea90f0",
   "metadata": {},
   "outputs": [],
   "source": [
    "Multiple Inheritance: In multiple inheritance, a class can inherit from more than one base class. It allows a class to inherit attributes and methods from multiple sources."
   ]
  }
 ],
 "metadata": {
  "kernelspec": {
   "display_name": "Python 3 (ipykernel)",
   "language": "python",
   "name": "python3"
  },
  "language_info": {
   "codemirror_mode": {
    "name": "ipython",
    "version": 3
   },
   "file_extension": ".py",
   "mimetype": "text/x-python",
   "name": "python",
   "nbconvert_exporter": "python",
   "pygments_lexer": "ipython3",
   "version": "3.10.8"
  }
 },
 "nbformat": 4,
 "nbformat_minor": 5
}
