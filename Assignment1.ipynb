{
 "cells": [
  {
   "cell_type": "markdown",
   "id": "e99779da-905a-4e10-821c-d525f565ba91",
   "metadata": {},
   "source": [
    "// Q 1:Answer"
   ]
  },
  {
   "cell_type": "code",
   "execution_count": 1,
   "id": "4ab37ea1-f98d-47a6-8c7b-08d1f46148ae",
   "metadata": {},
   "outputs": [
    {
     "data": {
      "text/plain": [
       "str"
      ]
     },
     "execution_count": 1,
     "metadata": {},
     "output_type": "execute_result"
    }
   ],
   "source": [
    "name=\"Balaji\"\n",
    "type(name)"
   ]
  },
  {
   "cell_type": "code",
   "execution_count": 2,
   "id": "01f1aed0-7322-449b-894a-2a43bd8ebd9b",
   "metadata": {},
   "outputs": [
    {
     "data": {
      "text/plain": [
       "list"
      ]
     },
     "execution_count": 2,
     "metadata": {},
     "output_type": "execute_result"
    }
   ],
   "source": [
    "lst=[1,\"A\",2,\"B\",3,\"C\",4,\"D\"]\n",
    "type(lst)"
   ]
  },
  {
   "cell_type": "code",
   "execution_count": 5,
   "id": "b6f96f24-597a-4b73-b1e9-d08771ff6530",
   "metadata": {},
   "outputs": [
    {
     "data": {
      "text/plain": [
       "float"
      ]
     },
     "execution_count": 5,
     "metadata": {},
     "output_type": "execute_result"
    }
   ],
   "source": [
    "flt=15.256\n",
    "type(flt)"
   ]
  },
  {
   "cell_type": "code",
   "execution_count": 8,
   "id": "ce8dfa7f-a3a2-4c92-92b7-1695121605c3",
   "metadata": {},
   "outputs": [
    {
     "data": {
      "text/plain": [
       "tuple"
      ]
     },
     "execution_count": 8,
     "metadata": {},
     "output_type": "execute_result"
    }
   ],
   "source": [
    "tup=(1,\"A\",2,\"B\",3,\"C\")\n",
    "type(tup)"
   ]
  },
  {
   "cell_type": "markdown",
   "id": "13fb3d98-1772-4ebb-9723-4ed397a0832b",
   "metadata": {},
   "source": [
    "// Q 2:Answer"
   ]
  },
  {
   "cell_type": "code",
   "execution_count": 10,
   "id": "4d9d34bf-74ae-4507-a54a-c9f8d59d03e1",
   "metadata": {},
   "outputs": [
    {
     "data": {
      "text/plain": [
       "str"
      ]
     },
     "execution_count": 10,
     "metadata": {},
     "output_type": "execute_result"
    }
   ],
   "source": [
    "var1=' '\n",
    "type(var1)"
   ]
  },
  {
   "cell_type": "code",
   "execution_count": 12,
   "id": "0b9154bc-a799-4d44-a205-e99d4129387e",
   "metadata": {},
   "outputs": [
    {
     "data": {
      "text/plain": [
       "str"
      ]
     },
     "execution_count": 12,
     "metadata": {},
     "output_type": "execute_result"
    }
   ],
   "source": [
    "var2='[DS,ML,Python]'\n",
    "type(var2)"
   ]
  },
  {
   "cell_type": "code",
   "execution_count": 13,
   "id": "5f33fc40-9c25-49a1-81bf-bc53b207dddb",
   "metadata": {},
   "outputs": [
    {
     "data": {
      "text/plain": [
       "list"
      ]
     },
     "execution_count": 13,
     "metadata": {},
     "output_type": "execute_result"
    }
   ],
   "source": [
    "var3=['DS','ML','Python']\n",
    "type(var3)"
   ]
  },
  {
   "cell_type": "code",
   "execution_count": 18,
   "id": "6261cb98-276c-45da-8ec8-9e0cb0b6ebcc",
   "metadata": {},
   "outputs": [
    {
     "data": {
      "text/plain": [
       "int"
      ]
     },
     "execution_count": 18,
     "metadata": {},
     "output_type": "execute_result"
    }
   ],
   "source": [
    "var4=1\n",
    "type(var4)"
   ]
  },
  {
   "cell_type": "markdown",
   "id": "5e193f7c-9df0-4721-b2a5-adc986eaa6dd",
   "metadata": {},
   "source": [
    "// Q 3:Answer"
   ]
  },
  {
   "cell_type": "code",
   "execution_count": 2,
   "id": "67c6a3a3-9d3e-4bcb-99e6-7e1bde6d9b56",
   "metadata": {},
   "outputs": [
    {
     "name": "stdout",
     "output_type": "stream",
     "text": [
      "2.0\n"
     ]
    }
   ],
   "source": [
    "a=8/4\n",
    "print(a)  #\"/\" In python this is used for division"
   ]
  },
  {
   "cell_type": "code",
   "execution_count": 6,
   "id": "40e01260-6c35-4756-bc73-7e0a56e240ea",
   "metadata": {},
   "outputs": [
    {
     "name": "stdout",
     "output_type": "stream",
     "text": [
      "1\n"
     ]
    }
   ],
   "source": [
    "a=7%2\n",
    "print(a)  #\"%\" In python this is used to find the remainder of two digits"
   ]
  },
  {
   "cell_type": "code",
   "execution_count": 9,
   "id": "8cb52012-a9a8-4a78-b3f0-d402d00610ba",
   "metadata": {},
   "outputs": [
    {
     "name": "stdout",
     "output_type": "stream",
     "text": [
      "7\n"
     ]
    }
   ],
   "source": [
    "a=15//2\n",
    "print(a) #\"//\" In python it rounds the result down to the nearest whole number"
   ]
  },
  {
   "cell_type": "code",
   "execution_count": 13,
   "id": "ed2ae7eb-2bbe-42ed-9213-6c2ee90432cf",
   "metadata": {},
   "outputs": [
    {
     "name": "stdout",
     "output_type": "stream",
     "text": [
      "8\n"
     ]
    }
   ],
   "source": [
    "a=2\n",
    "b=3\n",
    "print(a**b) #\"**\" In python it is exponetiation it means squares the digits"
   ]
  },
  {
   "cell_type": "markdown",
   "id": "3bd5ba87-f1b0-4291-b714-3961a6d83ffb",
   "metadata": {},
   "source": [
    "// Q 4:Answer"
   ]
  },
  {
   "cell_type": "code",
   "execution_count": 18,
   "id": "6f3718ef-67e9-4181-9965-4164ee40231d",
   "metadata": {},
   "outputs": [
    {
     "name": "stdout",
     "output_type": "stream",
     "text": [
      "1 <class 'int'>\n",
      "2 <class 'int'>\n",
      "3 <class 'int'>\n",
      "Balaji <class 'str'>\n",
      "Assignment <class 'str'>\n",
      "Pw skills lab <class 'str'>\n",
      "3.14 <class 'float'>\n"
     ]
    }
   ],
   "source": [
    "lst=[1,2,3,\"Balaji\",\"Assignment\",\"Pw skills lab\",3.14]\n",
    "for element in lst:\n",
    "    print(element,type(element))"
   ]
  },
  {
   "cell_type": "markdown",
   "id": "05074784-604c-4b0e-ad63-840c872ece94",
   "metadata": {},
   "source": [
    "// Q 5:Answer"
   ]
  },
  {
   "cell_type": "code",
   "execution_count": 9,
   "id": "684eb2df-52aa-418d-9fad-87e73ebca6be",
   "metadata": {},
   "outputs": [
    {
     "name": "stdout",
     "output_type": "stream",
     "text": [
      "A is purely divisible by B: No of times is : 9\n"
     ]
    }
   ],
   "source": [
    "A = 36 \n",
    "B = 4\n",
    "divisions = 0\n",
    "while A % B == 0:\n",
    "    A = A // B\n",
    "    divisions += A\n",
    "\n",
    "print(\"A is purely divisible by B:\" ,\"No of times is :\", divisions) "
   ]
  },
  {
   "cell_type": "markdown",
   "id": "0b610b17-a087-4598-9392-c0b8535290ac",
   "metadata": {},
   "source": [
    "//Q 6:Answer"
   ]
  },
  {
   "cell_type": "markdown",
   "id": "e2348201-1046-470b-98e0-59547d148f2c",
   "metadata": {},
   "source": [
    "1.Mutable data types: Mutable objects can be modified after creation. This means that you can change their state, add or remove elements, or modify their properties without creating a new object. Examples of mutable data types in Python include lists, dictionaries, and sets."
   ]
  },
  {
   "cell_type": "code",
   "execution_count": 10,
   "id": "c8785db2-9d7c-4bd9-9dad-a7f057f45155",
   "metadata": {},
   "outputs": [
    {
     "name": "stdout",
     "output_type": "stream",
     "text": [
      "[1, 2, 3, 4]\n"
     ]
    }
   ],
   "source": [
    "lst=[1,2,3,4]\n",
    "print(lst) "
   ]
  },
  {
   "cell_type": "code",
   "execution_count": 13,
   "id": "dd1f18f8-f589-45c3-bd58-0ad4c9a5651e",
   "metadata": {},
   "outputs": [
    {
     "name": "stdout",
     "output_type": "stream",
     "text": [
      "[1, 2, 3, 4, 3, 5]\n"
     ]
    }
   ],
   "source": [
    "lst.append(5) \n",
    "print(lst) "
   ]
  },
  {
   "cell_type": "code",
   "execution_count": 14,
   "id": "91967bed-768e-4b59-9202-47a31ce9e3ef",
   "metadata": {},
   "outputs": [
    {
     "name": "stdout",
     "output_type": "stream",
     "text": [
      "[1, 6, 3, 4, 3, 5]\n"
     ]
    }
   ],
   "source": [
    "lst[1]=6\n",
    "print(lst) "
   ]
  },
  {
   "cell_type": "markdown",
   "id": "24253905-b03e-4f90-8b51-17a480467a4b",
   "metadata": {},
   "source": [
    "In the above examples we can modify a list by using append function and also replace an element in list because of list is an mutable"
   ]
  },
  {
   "cell_type": "markdown",
   "id": "2ce707d7-8184-48b5-97f5-0dcbba44dba9",
   "metadata": {},
   "source": [
    "2. Immutable data types: Immutable objects, on the other hand, cannot be modified once they are created. If you want to change the value of an immutable object, you need to create a new object with the updated value. Examples of immutable data types in Python include integers, floats, strings, and tuples."
   ]
  },
  {
   "cell_type": "code",
   "execution_count": 15,
   "id": "b7433865-1de0-4679-8a95-4ceeae97b030",
   "metadata": {},
   "outputs": [
    {
     "name": "stdout",
     "output_type": "stream",
     "text": [
      "Hello\n"
     ]
    }
   ],
   "source": [
    "my_string = \"Hello\"\n",
    "print(my_string) "
   ]
  },
  {
   "cell_type": "code",
   "execution_count": 16,
   "id": "d8228f7a-1aa3-4be1-bdb2-2f04ebd1f881",
   "metadata": {},
   "outputs": [
    {
     "name": "stdout",
     "output_type": "stream",
     "text": [
      "Hello World\n"
     ]
    }
   ],
   "source": [
    "my_string = my_string + \" World\"\n",
    "print(my_string) "
   ]
  },
  {
   "cell_type": "code",
   "execution_count": 17,
   "id": "4833d433-8105-4196-9e67-3a50f541a0a2",
   "metadata": {},
   "outputs": [
    {
     "name": "stdout",
     "output_type": "stream",
     "text": [
      "(1, 2, 3)\n"
     ]
    }
   ],
   "source": [
    "my_tuple = (1, 2, 3)\n",
    "print(my_tuple) "
   ]
  },
  {
   "cell_type": "code",
   "execution_count": 18,
   "id": "e0f0db49-0848-43cf-9f51-88369ad36d3c",
   "metadata": {},
   "outputs": [
    {
     "ename": "TypeError",
     "evalue": "'tuple' object does not support item assignment",
     "output_type": "error",
     "traceback": [
      "\u001b[0;31m---------------------------------------------------------------------------\u001b[0m",
      "\u001b[0;31mTypeError\u001b[0m                                 Traceback (most recent call last)",
      "Cell \u001b[0;32mIn[18], line 1\u001b[0m\n\u001b[0;32m----> 1\u001b[0m \u001b[43mmy_tuple\u001b[49m\u001b[43m[\u001b[49m\u001b[38;5;241;43m1\u001b[39;49m\u001b[43m]\u001b[49m \u001b[38;5;241m=\u001b[39m \u001b[38;5;241m5\u001b[39m  \n",
      "\u001b[0;31mTypeError\u001b[0m: 'tuple' object does not support item assignment"
     ]
    }
   ],
   "source": [
    "my_tuple[1] = 5  "
   ]
  },
  {
   "cell_type": "code",
   "execution_count": null,
   "id": "b659ee90-a6c8-4add-bb5c-53a3c3e56d58",
   "metadata": {},
   "outputs": [],
   "source": []
  }
 ],
 "metadata": {
  "kernelspec": {
   "display_name": "Python 3 (ipykernel)",
   "language": "python",
   "name": "python3"
  },
  "language_info": {
   "codemirror_mode": {
    "name": "ipython",
    "version": 3
   },
   "file_extension": ".py",
   "mimetype": "text/x-python",
   "name": "python",
   "nbconvert_exporter": "python",
   "pygments_lexer": "ipython3",
   "version": "3.10.8"
  }
 },
 "nbformat": 4,
 "nbformat_minor": 5
}
